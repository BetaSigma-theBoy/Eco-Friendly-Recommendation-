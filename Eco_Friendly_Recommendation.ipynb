{
  "nbformat": 4,
  "nbformat_minor": 0,
  "metadata": {
    "colab": {
      "provenance": []
    },
    "kernelspec": {
      "name": "python3",
      "display_name": "Python 3"
    },
    "language_info": {
      "name": "python"
    }
  },
  "cells": [
    {
      "cell_type": "code",
      "execution_count": null,
      "metadata": {
        "colab": {
          "base_uri": "https://localhost:8080/"
        },
        "id": "kf1erusVgA8J",
        "outputId": "fada11f2-a06d-4ec1-a88c-afb3c8d91520"
      },
      "outputs": [
        {
          "output_type": "stream",
          "name": "stdout",
          "text": [
            "                  Product    Category  Rating\n",
            "0            Reusable Bag        Bags     4.8\n",
            "1       Bamboo Toothbrush  Toiletries     4.5\n",
            "2      Glass Water Bottle   Drinkware     4.7\n",
            "3             Compost Bin  Composting     4.3\n",
            "4  Organic Cotton T-Shirt    Clothing     4.9\n",
            "<class 'pandas.core.frame.DataFrame'>\n",
            "RangeIndex: 5 entries, 0 to 4\n",
            "Data columns (total 3 columns):\n",
            " #   Column    Non-Null Count  Dtype  \n",
            "---  ------    --------------  -----  \n",
            " 0   Product   5 non-null      object \n",
            " 1   Category  5 non-null      object \n",
            " 2   Rating    5 non-null      float64\n",
            "dtypes: float64(1), object(2)\n",
            "memory usage: 252.0+ bytes\n",
            "None\n",
            "         Rating\n",
            "count  5.000000\n",
            "mean   4.640000\n",
            "std    0.240832\n",
            "min    4.300000\n",
            "25%    4.500000\n",
            "50%    4.700000\n",
            "75%    4.800000\n",
            "max    4.900000\n"
          ]
        }
      ],
      "source": [
        "import pandas as pd\n",
        "\n",
        "\n",
        "\n",
        "data = { 'Product': ['Reusable Bag', 'Bamboo Toothbrush', 'Glass Water Bottle', 'Compost Bin', 'Organic Cotton T-Shirt'],\n",
        "        'Category': ['Bags', 'Toiletries', 'Drinkware', 'Composting', 'Clothing'],\n",
        "         'Rating': [4.8, 4.5, 4.7, 4.3, 4.9] }\n",
        "\n",
        "\n",
        "df = pd.DataFrame(data)\n",
        "print(df.head())\n",
        "print(df.info())\n",
        "print(df.describe())\n",
        "\n",
        "\n"
      ]
    },
    {
      "cell_type": "code",
      "source": [
        "def recommend_product(selected_category):\n",
        "  recommended = df[df['Category'] == selected_category]\n",
        "  return recommended"
      ],
      "metadata": {
        "id": "kGfoMu_MjroO"
      },
      "execution_count": null,
      "outputs": []
    },
    {
      "cell_type": "code",
      "source": [
        "def add_product(product_name, category, rating):\n",
        "  global df\n",
        "  new_product = ({'Product':[product_name], 'Category':[category], 'Rating':[rating]})\n",
        "  df = pd.concat([df, new_product], ignore_index=True)\n",
        "  print(f\"This Product{product_name} added successfully!\")"
      ],
      "metadata": {
        "id": "zNigy9QXj7av"
      },
      "execution_count": null,
      "outputs": []
    },
    {
      "cell_type": "code",
      "source": [
        "def update_product_rating(product_name, new_rating):\n",
        "  global df\n",
        "  if product_name in df['Product'].values:"
      ],
      "metadata": {
        "colab": {
          "base_uri": "https://localhost:8080/",
          "height": 105
        },
        "id": "y3rF65nAlrKA",
        "outputId": "ccfa3b79-b2f0-41ff-d5e5-85188e2cc911"
      },
      "execution_count": null,
      "outputs": [
        {
          "output_type": "error",
          "ename": "SyntaxError",
          "evalue": "incomplete input (<ipython-input-15-06b9aa9eec15>, line 3)",
          "traceback": [
            "\u001b[0;36m  File \u001b[0;32m\"<ipython-input-15-06b9aa9eec15>\"\u001b[0;36m, line \u001b[0;32m3\u001b[0m\n\u001b[0;31m    if product_name in df['Product'].values:\u001b[0m\n\u001b[0m                                            ^\u001b[0m\n\u001b[0;31mSyntaxError\u001b[0m\u001b[0;31m:\u001b[0m incomplete input\n"
          ]
        }
      ]
    }
  ]
}